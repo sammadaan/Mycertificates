# 🏛️ Assistente de Correção Jurídica

**Protótipo de Chatbot para Correção Gramatical e de Coesão de Textos Jurídicos Brasileiros**

---

## 📋 O que este notebook faz:

1. **Instala** todas as dependências necessárias
2. **Configura** o ambiente Flask + Gemini API
3. **Cria** uma interface web moderna para correção de textos
4. **Gera** um link público para acesso ao chatbot

## ⚡ Início Rápido:

1. **Configure sua API Key** (célula 1)
2. **Execute o setup** (célula 2) 
3. **Acesse o link** gerado
4. **Teste** com o texto de exemplo

---